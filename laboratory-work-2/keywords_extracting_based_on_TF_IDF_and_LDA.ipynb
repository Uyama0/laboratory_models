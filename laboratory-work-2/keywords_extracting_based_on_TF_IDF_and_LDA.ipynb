{
  "cells": [
    {
      "cell_type": "code",
      "execution_count": 14,
      "metadata": {
        "id": "Qx_a4f1Ro3RT"
      },
      "outputs": [],
      "source": [
        "from sklearn.feature_extraction.text import CountVectorizer\n",
        "from sklearn.feature_extraction.text import TfidfTransformer\n",
        "from sklearn.pipeline import make_pipeline\n",
        "from sklearn.preprocessing import StandardScaler\n",
        "from sklearn.decomposition import TruncatedSVD\n",
        "import nltk\n",
        "from nltk.corpus import stopwords"
      ]
    },
    {
      "cell_type": "code",
      "execution_count": 15,
      "metadata": {
        "colab": {
          "base_uri": "https://localhost:8080/"
        },
        "id": "jHM6PtrBpK7M",
        "outputId": "99275ad7-159a-410e-cf3b-6381bb764981"
      },
      "outputs": [
        {
          "name": "stderr",
          "output_type": "stream",
          "text": [
            "[nltk_data] Downloading package stopwords to /root/nltk_data...\n",
            "[nltk_data]   Package stopwords is already up-to-date!\n"
          ]
        },
        {
          "data": {
            "text/plain": [
              "True"
            ]
          },
          "execution_count": 15,
          "metadata": {},
          "output_type": "execute_result"
        }
      ],
      "source": [
        "nltk.download('stopwords')"
      ]
    },
    {
      "cell_type": "code",
      "execution_count": 16,
      "metadata": {
        "id": "dJZ3_jeho6yF"
      },
      "outputs": [],
      "source": [
        "stop_words = set(stopwords.words('english'))"
      ]
    },
    {
      "cell_type": "code",
      "execution_count": 18,
      "metadata": {
        "id": "LpZhxDKzpcj4"
      },
      "outputs": [],
      "source": [
        "def process_text(text):\n",
        "    words = [word.lower() for word in text.split() if word.lower() not in stop_words]\n",
        "    return ' '.join(words)"
      ]
    },
    {
      "cell_type": "code",
      "execution_count": null,
      "metadata": {},
      "outputs": [],
      "source": [
        "input_text = \"\"\"\n",
        "Telemachus took this speech as of good omen and rose at once, for he was bursting with what he had to say. He stood in the middle of the assembly and the good herald Pisenor brought him his staff. Then, turning to Aegyptius, \"Sir,\" said he, \"it is I, as you will shortly learn, who have convened you, for it is I who am the most aggrieved. I have not got wind of any host approaching about which I would warn you, nor is there any matter of public moment on which I would speak. My grieveance is purely personal, and turns on two great misfortunes which have fallen upon my house. The first of these is the loss of my excellent father, who was chief among all you here present, and was like a father to every one of you; the second is much more serious, and ere long will be the utter ruin of my estate. The sons of all the chief men among you are pestering my mother to marry them against her will. They are afraid to go to her father Icarius, asking him to choose the one he likes best, and to provide marriage gifts for his daughter, but day by day they keep hanging about my father's house, sacrificing our oxen, sheep, and fat goats for their banquets, and never giving so much as a thought to the quantity of wine they drink. No estate can stand such recklessness; we have now no Ulysses to ward off harm from our doors, and I cannot hold my own against them. I shall never all my days be as good a man as he was, still I would indeed defend myself if I had power to do so, for I cannot stand such treatment any longer; my house is being disgraced and ruined. Have respect, therefore, to your own consciences and to public opinion. Fear, too, the wrath of heaven, lest the gods should be displeased and turn upon you. I pray you by Jove and Themis, who is the beginning and the end of councils, [do not] hold back, my friends, and leave me singlehanded- unless it be that my brave father Ulysses did some wrong to the Achaeans which you would now avenge on me, by aiding and abetting these suitors. Moreover, if I am to be eaten out of house and home at all, I had rather you did the eating yourselves, for I could then take action against you to some purpose, and serve you with notices from house to house till I got paid in full, whereas now I have no remedy.\"\n",
        "\"\"\""
      ]
    },
    {
      "cell_type": "code",
      "execution_count": 26,
      "metadata": {
        "colab": {
          "base_uri": "https://localhost:8080/"
        },
        "id": "LHTKgpEgnDza",
        "outputId": "b5828209-1a84-4dbe-c096-e94bc2663513"
      },
      "outputs": [
        {
          "name": "stdout",
          "output_type": "stream",
          "text": [
            "Ключевые слова на основе статистики: ['house', 'father', 'you', 'would', 'good']\n"
          ]
        },
        {
          "name": "stderr",
          "output_type": "stream",
          "text": [
            "/usr/local/lib/python3.10/dist-packages/sklearn/decomposition/_truncated_svd.py:268: RuntimeWarning: invalid value encountered in divide\n",
            "  self.explained_variance_ratio_ = exp_var / full_var\n"
          ]
        }
      ],
      "source": [
        "# Пример текста с фокусом на статистике\n",
        "text_statistics_processed = process_text(input_text)\n",
        "\n",
        "# Инициализация и применение векторизатора с использованием TF-IDF\n",
        "vectorizer = CountVectorizer()\n",
        "transformer = TfidfTransformer()\n",
        "svd = TruncatedSVD(n_components=2)\n",
        "scaler = StandardScaler()\n",
        "\n",
        "text_pipeline_statistics = make_pipeline(vectorizer, transformer, svd, scaler)\n",
        "\n",
        "features_statistics = text_pipeline_statistics.fit_transform([text_statistics_processed])\n",
        "\n",
        "# Извлечение ключевых слов\n",
        "feature_names_statistics = vectorizer.get_feature_names_out()\n",
        "top_keywords_statistics = [feature_names_statistics[i] for i in svd.components_[0].argsort()[::-1][:5]]\n",
        "\n",
        "print(\"Ключевые слова на основе статистики:\", top_keywords_statistics)\n"
      ]
    },
    {
      "cell_type": "code",
      "execution_count": 25,
      "metadata": {
        "colab": {
          "base_uri": "https://localhost:8080/"
        },
        "id": "6SMRa50hnO9F",
        "outputId": "5d863fc5-adb7-47bc-96f1-dcb1647e1830"
      },
      "outputs": [
        {
          "name": "stdout",
          "output_type": "stream",
          "text": [
            "Ключевые слова на основе машинного обучения: ['house', 'father', 'you', 'would', 'good']\n"
          ]
        },
        {
          "name": "stderr",
          "output_type": "stream",
          "text": [
            "/usr/local/lib/python3.10/dist-packages/sklearn/decomposition/_truncated_svd.py:268: RuntimeWarning: invalid value encountered in divide\n",
            "  self.explained_variance_ratio_ = exp_var / full_var\n"
          ]
        }
      ],
      "source": [
        "text_processed = process_text(input_text)\n",
        "\n",
        "vectorizer = CountVectorizer()\n",
        "X = vectorizer.fit_transform([text_processed])\n",
        "\n",
        "# Применение модели LDA\n",
        "lda = LatentDirichletAllocation(n_components=5, random_state=42)\n",
        "lda.fit(X)\n",
        "\n",
        "# Извлечение тем и ключевых слов\n",
        "feature_names = vectorizer.get_feature_names_out()\n",
        "top_keywords_lda = [feature_names[i] for i in lda.components_[0].argsort()[::-1][:5]]\n",
        "\n",
        "print(\"Ключевые слова с использованием LDA:\", top_keywords_lda)"
      ]
    }
  ],
  "metadata": {
    "colab": {
      "provenance": []
    },
    "kernelspec": {
      "display_name": "Python 3",
      "name": "python3"
    },
    "language_info": {
      "name": "python"
    }
  },
  "nbformat": 4,
  "nbformat_minor": 0
}
